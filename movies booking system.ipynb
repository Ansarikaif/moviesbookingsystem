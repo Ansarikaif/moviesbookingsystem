#this  is Comment Movies Ticket Booking System
print(""*40)
print("     " "Inox City Mall Kurla , Mumbai ")

print("🎥"*16)
print("           " "Movie Name : Jawan  ")
print("-"*40)
silver_seat = 75
gold_seat = 100
premium_seat= 125
recline_seat= 35
while True:
    print("""        Silver Seat Price     = 250
        Gold Seat Price       = 350
        Premium Seat Price    = 500
        Recliner Seat Price   = 750""")
    
    name = input ("Customer Name:")
    mobile= int(input ("Customer Mobile Number:"))
    seat_type = input("Whice Seat You want To book please Select seat Silver, Gold, Premium, Recliner:")
    
    if seat_type == "Silver":
        seats = int(input("How many seats do you want to book? "))
        if seats <= silver_seat:
            silver_seat -= seats
            total = seats*250
        else:
            print("Housefull")
            print("Sorry, We have", silver_seat, "seats left in Silver")
            continue


    elif seat_type == "Gold":
        seats = int(input("How many seats do you want to book? "))
        if seats <= gold_seat:
            gold_seat -= seats
            total = seats*350
        else:
            print("Housefull")
            print("Sorry! We have", gold_seat, "seats left in Gold")
            continue


    elif seat_type == "premium":
        seats = int(input("How many seats do you want to book? "))
        if seats <= premium_seat:
            premium_seat -= seats
            total = seats*200
        else:
            print("Housefull")
            print("Sorry! We have", premium_seat, "seats left in premium")
            continue


    elif seat_type == "Recliner":
        seats = int(input("How many seats do you want to book? "))
        if seats <= recline_seat:
            recline_seat -= seats
            total = seats*750
        else:
            print("Housefull")
            print("Sorry! We have", recline_seat, "seats left in Recliner")
            continue
    else:
        print("-"*50)
        print("   PLEASE READ CAREFULLY & CHOOSE CORRECT OPTION")
        continue
        
            
    combo = input("Want to add combo of Pop Corn and Cold drink of Rs. 250? (yes/no): ")

    if combo == "yes":
        quantity = int(input("How much combo do you want to add? "))
        combo_price = quantity*150
        total = total+combo_price
        print("-"*40)
        print(name, "Your Total amount is =",total)
        print("       THANK YOU")
        print("-"*40)
    else:
        print("-"*40)
        print(name, "Your Total amount is =", total)
        print("       THANK YOU")
        print("-"*40)


    repeat = input("Go to next person? (yes/no): ")
    print("Silver searts Remaing:",silver_seat)
    print("Gold Seats Remaing:",gold_seat)
    print("Premium seats remaining: ", premium_seat) 
    print("Recliner seats remaining: ", recline_seat)
    if repeat == "no":
        break
