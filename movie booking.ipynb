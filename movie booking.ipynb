{
 "cells": [
  {
   "cell_type": "code",
   "execution_count": null,
   "id": "e5cd1384-50cc-40db-a1a7-eff3eda5f412",
   "metadata": {},
   "outputs": [
    {
     "name": "stdout",
     "output_type": "stream",
     "text": [
      "\n",
      "        normal seat price = 200\n",
      "        recliner seat price = 300\n"
     ]
    }
   ],
   "source": [
    "#Project = 1 theatre ticket booking system\n",
    "normal_seats = 130\n",
    "recliner_seats = 20\n",
    "while True:\n",
    "    print(\"\"\"\n",
    "        normal seat price = 200\n",
    "        recliner seat price = 300\"\"\")\n",
    "    name = input(\"Please enter your name: \")\n",
    "    seat_type = input(\"which type of seat do you want to book?(normal/recliner): \")\n",
    "        \n",
    "    if seat_type == \"recliner\":\n",
    "        seats = int(input(\"How many seats do you want to book? \"))\n",
    "        if seats <= recliner_seats:\n",
    "            recliner_seats -= seats\n",
    "            total = seats*300\n",
    "        else:\n",
    "            print(\"Housefull\")\n",
    "            print(\"Sorry, We have\", recliner_seats, \"seats left in recliner\")\n",
    "            continue\n",
    "\n",
    "\n",
    "    elif seat_type == \"normal\":\n",
    "        seats = int(input(\"How many seats do you want to book? \"))\n",
    "        if seats <= normal_seats:\n",
    "            normal_seats -= seats\n",
    "            total = seats*200\n",
    "        else:\n",
    "            print(\"Housefull\")\n",
    "            print(\"Sorry! We have\", normal_seats, \"seats left in normal\")\n",
    "            continue\n",
    "    else:\n",
    "        print(\"-\"*50)\n",
    "        print(\"   PLEASE READ CAREFULLY & CHOOSE CORRECT OPTION\")\n",
    "        continue\n",
    "        \n",
    "            \n",
    "    combo = input(\"Do you want to add combo of Pop Corn and Cold drink of Rs. 150? (yes/no): \")\n",
    "\n",
    "    if combo == \"yes\":\n",
    "        quantity = int(input(\"How much combo do you want to add? \"))\n",
    "        combo_price = quantity*150\n",
    "        total = total+combo_price\n",
    "        print(\"-\"*40)\n",
    "        print(name, \"Your Total amount is =\",total)\n",
    "        print(\"       THANK YOU\")\n",
    "        print(\"-\"*40)\n",
    "    else:\n",
    "        print(\"-\"*40)\n",
    "        print(name, \"Your Total amount is =\", total)\n",
    "        print(\"       THANK YOU\")\n",
    "        print(\"-\"*40)\n",
    "\n",
    "\n",
    "    repeat = input(\"Go to next person? (yes/no): \")\n",
    "    print(\"Normal seats remaining: \", normal_seats) \n",
    "    print(\"Recliner seats remaining: \", recliner_seats)\n",
    "    if repeat == \"no\":\n",
    "        break"
   ]
  },
  {
   "cell_type": "code",
   "execution_count": null,
   "id": "9e4aa5f4-c17f-4b60-a79c-516bb0bbfa4e",
   "metadata": {},
   "outputs": [],
   "source": []
  }
 ],
 "metadata": {
  "kernelspec": {
   "display_name": "Python 3 (ipykernel)",
   "language": "python",
   "name": "python3"
  },
  "language_info": {
   "codemirror_mode": {
    "name": "ipython",
    "version": 3
   },
   "file_extension": ".py",
   "mimetype": "text/x-python",
   "name": "python",
   "nbconvert_exporter": "python",
   "pygments_lexer": "ipython3",
   "version": "3.11.5"
  }
 },
 "nbformat": 4,
 "nbformat_minor": 5
}
